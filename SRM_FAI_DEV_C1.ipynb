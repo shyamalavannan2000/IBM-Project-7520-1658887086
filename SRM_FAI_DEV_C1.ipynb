{
  "nbformat": 4,
  "nbformat_minor": 0,
  "metadata": {
    "colab": {
      "provenance": [],
      "authorship_tag": "ABX9TyNCVxwHvJ9oAhpvaZn6btKy",
      "include_colab_link": true
    },
    "kernelspec": {
      "name": "python3",
      "display_name": "Python 3"
    },
    "language_info": {
      "name": "python"
    }
  },
  "cells": [
    {
      "cell_type": "markdown",
      "metadata": {
        "id": "view-in-github",
        "colab_type": "text"
      },
      "source": [
        "<a href=\"https://colab.research.google.com/github/shyamalavannan2000/IBM-Project-7520-1658887086/blob/main/SRM_FAI_DEV_C1.ipynb\" target=\"_parent\"><img src=\"https://colab.research.google.com/assets/colab-badge.svg\" alt=\"Open In Colab\"/></a>"
      ]
    },
    {
      "cell_type": "code",
      "execution_count": 2,
      "metadata": {
        "colab": {
          "base_uri": "https://localhost:8080/"
        },
        "id": "WvOusK3bL--9",
        "outputId": "af7a2892-f009-4b94-bc88-73a32dc63db4"
      },
      "outputs": [
        {
          "output_type": "stream",
          "name": "stdout",
          "text": [
            "jsut another start\n"
          ]
        }
      ],
      "source": [
        "print(\"jsut another start\")\n"
      ]
    },
    {
      "cell_type": "code",
      "source": [
        "x = 0.2323232\n",
        "print(x)\n",
        "y = -131313131\n",
        "y =  0b1101100\n",
        "y= 0o12\n",
        "y = 0x12\n",
        "y = 0.923232\n",
        "y= int(y)\n",
        "#z=x+y\n",
        "print(y)"
      ],
      "metadata": {
        "colab": {
          "base_uri": "https://localhost:8080/"
        },
        "id": "iixZn9gUQ0kv",
        "outputId": "4d26bc79-8b9a-4fc9-883b-9f2f75087e93"
      },
      "execution_count": 18,
      "outputs": [
        {
          "output_type": "stream",
          "name": "stdout",
          "text": [
            "0.2323232\n",
            "0\n"
          ]
        }
      ]
    },
    {
      "cell_type": "code",
      "source": [
        "x = 322323.32432\n",
        "print(type(x))"
      ],
      "metadata": {
        "colab": {
          "base_uri": "https://localhost:8080/"
        },
        "id": "OfTcSBDDVoMo",
        "outputId": "ca35454a-04c6-4e18-80b6-9b9094cd99e2"
      },
      "execution_count": 15,
      "outputs": [
        {
          "output_type": "stream",
          "name": "stdout",
          "text": [
            "<class 'float'>\n"
          ]
        }
      ]
    },
    {
      "cell_type": "code",
      "source": [],
      "metadata": {
        "id": "yNFq5Q6WXz9v"
      },
      "execution_count": null,
      "outputs": []
    }
  ]
}